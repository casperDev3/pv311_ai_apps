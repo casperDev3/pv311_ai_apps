{
  "cells": [
    {
      "cell_type": "markdown",
      "metadata": {},
      "source": [
        "# 🔥 Повний курс регресій з поясненнями, фактами та аномаліями\n",
        "У цьому ноутбуку ми розглянемо **5 основних типів регресій/класів моделей**:\n",
        "- Linear Regression\n",
        "- Ridge / Lasso Regression\n",
        "- Decision Trees\n",
        "- Random Forest / XGBoost\n",
        "- Logistic Regression\n",
        "\n",
        "Для кожної моделі:\n",
        "- Теорія + цікаві факти\n",
        "- Аномалії та реальні приклади\n",
        "- Код з прикладами\n",
        "- Візуалізації"
      ]
    },
    {
      "cell_type": "markdown",
      "metadata": {},
      "source": [
        "## 📘 1. Linear Regression\n",
        "📌 **Суть**: шукає лінійну залежність між змінними.\n",
        "\n",
        "✅ Факти:\n",
        "- Виникла в астрономії у XVIII ст. (Гаус, Лежандр).\n",
        "- Дуже добре працює на простих задачах.\n",
        "- Використовується для прогнозу інфляції, цін, росту.\n",
        "\n",
        "❌ Аномалії:\n",
        "- Чутлива до викидів (одна точка може сильно змінити пряму).\n",
        "- Якщо є приховані змінні → модель дає неправильні висновки."
      ]
    },
    {
      "cell_type": "code",
      "execution_count": null,
      "metadata": {},
      "outputs": [],
      "source": [
        "import numpy as np\n",
        "import matplotlib.pyplot as plt\n",
        "from sklearn.linear_model import LinearRegression\n",
        "\n",
        "# Дані: площа і ціна квартири\n",
        "X = np.array([30, 50, 70, 90, 120]).reshape(-1, 1)\n",
        "y = np.array([60, 100, 140, 180, 240])\n",
        "\n",
        "model = LinearRegression().fit(X, y)\n",
        "X_test = np.linspace(20, 130, 100).reshape(-1, 1)\n",
        "y_pred = model.predict(X_test)\n",
        "\n",
        "plt.scatter(X, y, color='blue', label='Реальні дані')\n",
        "plt.plot(X_test, y_pred, color='red', label='Модель')\n",
        "plt.xlabel('Площа (м²)')\n",
        "plt.ylabel('Ціна (тис.$)')\n",
        "plt.legend()\n",
        "plt.show()"
      ]
    },
    {
      "cell_type": "markdown",
      "metadata": {},
      "source": [
        "## 📘 2. Ridge / Lasso Regression\n",
        "📌 **Суть**: додають штраф за великі коефіцієнти.\n",
        "\n",
        "✅ Факти:\n",
        "- Ridge зменшує коефіцієнти, але не обнуляє.\n",
        "- Lasso може обнулити змінні (фактично робить відбір).\n",
        "- Lasso стало популярним у генетиці (тисячі ознак).\n",
        "\n",
        "❌ Аномалії:\n",
        "- Lasso може занадто агресивно зануляти змінні.\n",
        "- Ridge тримає навіть слабкі фактори."
      ]
    },
    {
      "cell_type": "code",
      "execution_count": null,
      "metadata": {},
      "outputs": [],
      "source": [
        "from sklearn.linear_model import Ridge, Lasso\n",
        "\n",
        "X = np.random.rand(50, 5)\n",
        "y = 3*X[:,0] + 2*X[:,1] + np.random.randn(50)\n",
        "\n",
        "ridge = Ridge(alpha=1.0).fit(X, y)\n",
        "lasso = Lasso(alpha=0.1).fit(X, y)\n",
        "\n",
        "print('Коефіцієнти Ridge:', ridge.coef_)\n",
        "print('Коефіцієнти Lasso:', lasso.coef_)"
      ]
    },
    {
      "cell_type": "markdown",
      "metadata": {},
      "source": [
        "## 📘 3. Decision Trees\n",
        "📌 **Суть**: створюють дерево з правилами.\n",
        "\n",
        "✅ Факти:\n",
        "- Використовуються в медицині через пояснюваність.\n",
        "- Популярні у праві, бо можна візуально показати логіку.\n",
        "- Дуже прості у поясненні.\n",
        "\n",
        "❌ Аномалії:\n",
        "- Легко переобладнуються (занадто точні для тренувальних даних)."
      ]
    },
    {
      "cell_type": "code",
      "execution_count": null,
      "metadata": {},
      "outputs": [],
      "source": [
        "from sklearn.tree import DecisionTreeRegressor, plot_tree\n",
        "\n",
        "X = np.array([[2],[4],[6],[8],[10]])\n",
        "y = np.array([60, 70, 80, 90, 95])\n",
        "\n",
        "tree = DecisionTreeRegressor(max_depth=2).fit(X, y)\n",
        "\n",
        "plt.figure(figsize=(6,4))\n",
        "plot_tree(tree, filled=True)\n",
        "plt.show()"
      ]
    },
    {
      "cell_type": "markdown",
      "metadata": {},
      "source": [
        "## 📘 4. Random Forest / XGBoost\n",
        "📌 **Суть**: ансамбль дерев → сильніші моделі.\n",
        "\n",
        "✅ Факти:\n",
        "- Random Forest (2001) одразу став популярним.\n",
        "- XGBoost виграв більшість Kaggle-змагань (2015–2018).\n",
        "- Дуже добре працюють із табличними даними.\n",
        "\n",
        "❌ Аномалії:\n",
        "- RF іноді занадто усереднює.\n",
        "- XGBoost може захопитися шумом."
      ]
    },
    {
      "cell_type": "code",
      "execution_count": null,
      "metadata": {},
      "outputs": [],
      "source": [
        "from sklearn.ensemble import RandomForestRegressor\n",
        "from xgboost import XGBRegressor\n",
        "\n",
        "X = np.random.rand(100, 2)\n",
        "y = 3*X[:,0] + 5*X[:,1] + np.random.randn(100)\n",
        "\n",
        "rf = RandomForestRegressor(n_estimators=50).fit(X, y)\n",
        "xgb = XGBRegressor(n_estimators=100, verbosity=0).fit(X, y)\n",
        "\n",
        "print('RF прогноз:', rf.predict([[0.5,0.7]]))\n",
        "print('XGB прогноз:', xgb.predict([[0.5,0.7]]))"
      ]
    },
    {
      "cell_type": "markdown",
      "metadata": {},
      "source": [
        "## 📘 5. Logistic Regression\n",
        "📌 **Суть**: класифікація (0/1).\n",
        "\n",
        "✅ Факти:\n",
        "- Використовується у медицині більше 100 років.\n",
        "- Логістична функція → S-крива, як ріст популяцій.\n",
        "- Дуже інтерпретована, тому досі популярна.\n",
        "\n",
        "❌ Аномалії:\n",
        "- Чутлива до корельованих змінних.\n",
        "- Погано працює зі складними межами."
      ]
    },
    {
      "cell_type": "code",
      "execution_count": null,
      "metadata": {},
      "outputs": [],
      "source": [
        "from sklearn.linear_model import LogisticRegression\n",
        "\n",
        "X = np.array([[2],[4],[6],[8]])\n",
        "y = np.array([0,0,1,1])\n",
        "\n",
        "logreg = LogisticRegression().fit(X, y)\n",
        "print('Ймовірність скласти іспит при X=5:', logreg.predict_proba([[5]]))"
      ]
    }
  ],
  "metadata": {
    "kernelspec": {
      "display_name": "Python 3",
      "language": "python",
      "name": "python3"
    },
    "language_info": {
      "name": "python",
      "version": "3.10"
    }
  },
  "nbformat": 4,
  "nbformat_minor": 2
}